import numpy as np
import sys
a = np.array([1,2,3])
a = np.array([[1, 2, 4], [5, 8, 7]], dtype = 'float') 
print ("Array created using passed list:\n", a) 

print(a)
c= [20.1, 20.8, 21.9, 22.5, 22.7, 22.3, 21.8, 21.2, 20.9, 20.1]
print(sys.getsizeof(c))
TC=np.array(c)
print(sys.getsizeof(TC))
print(TC)
print(type(TC))
print("Temprature in degrees Fahrenheit")
print(TC*9/5+32)
d = np.full((3, 3), 6, dtype = 'complex') 
print ("\nAn array initialized with all 6s." 
            "Array type is complex:\n", d)
b = np.array((1 , 3, 2)) 
print ("\nArray created using passed tuple:\n", b) 
  
  
